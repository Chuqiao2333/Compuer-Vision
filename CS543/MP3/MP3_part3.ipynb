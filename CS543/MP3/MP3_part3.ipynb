{
 "cells": [
  {
   "cell_type": "markdown",
   "metadata": {},
   "source": [
    "# Single-View Geometry (Python)\n",
    "\n",
    "## Usage\n",
    "This code snippet provides an overall code structure and some interactive plot interfaces for the *Single-View Geometry* section of Assignment 3. In [main function](#Main-function), we outline the required functionalities step by step. Some of the functions which involves interactive plots are already provided, but [the rest](#Your-implementation) are left for you to implement.\n",
    "\n",
    "## Package installation\n",
    "- You will need [GUI backend](https://matplotlib.org/faq/usage_faq.html#what-is-a-backend) to enable interactive plots in `matplotlib`.\n",
    "- In this code, we use `tkinter` package. Installation instruction can be found [here](https://anaconda.org/anaconda/tk)."
   ]
  },
  {
   "cell_type": "markdown",
   "metadata": {},
   "source": [
    "# Common imports"
   ]
  },
  {
   "cell_type": "code",
   "execution_count": 1,
   "metadata": {},
   "outputs": [],
   "source": [
    "% matplotlib tk\n",
    "import matplotlib.pyplot as plt\n",
    "import numpy as np\n",
    "import sympy.solvers\n",
    "import sympy\n",
    "from PIL import Image"
   ]
  },
  {
   "cell_type": "markdown",
   "metadata": {},
   "source": [
    "# Provided functions"
   ]
  },
  {
   "cell_type": "code",
   "execution_count": 2,
   "metadata": {},
   "outputs": [],
   "source": [
    "def get_input_lines(im, min_lines=3):\n",
    "    \"\"\"\n",
    "    Allows user to input line segments; computes centers and directions.\n",
    "    Inputs:\n",
    "        im: np.ndarray of shape (height, width, 3)\n",
    "        min_lines: minimum number of lines required\n",
    "    Returns:\n",
    "        n: number of lines from input\n",
    "        lines: np.ndarray of shape (3, n)\n",
    "            where each column denotes the parameters of the line equation\n",
    "        centers: np.ndarray of shape (3, n)\n",
    "            where each column denotes the homogeneous coordinates of the centers\n",
    "    \"\"\"\n",
    "    n = 0\n",
    "    lines = np.zeros((3, 0))\n",
    "    centers = np.zeros((3, 0))\n",
    "\n",
    "    plt.figure()\n",
    "    plt.imshow(im)\n",
    "    print('Set at least %d lines to compute vanishing point' % min_lines)\n",
    "    while True:\n",
    "        print('Click the two endpoints, use the right key to stop, and use the middle key to undo')\n",
    "        clicked = plt.ginput(2, timeout=0, show_clicks=True,mouse_pop = 2,mouse_stop = 3)\n",
    "        if not clicked or len(clicked) < 2:\n",
    "            if n < min_lines:\n",
    "                print('Need at least %d lines, you have %d now' % (min_lines, n))\n",
    "                continue\n",
    "            else:\n",
    "                # Stop getting lines if number of lines is enough\n",
    "                break\n",
    "\n",
    "        # Unpack user inputs and save as homogeneous coordinates\n",
    "        pt1 = np.array([clicked[0][0], clicked[0][1], 1])\n",
    "        pt2 = np.array([clicked[1][0], clicked[1][1], 1])\n",
    "        # Get line equation using cross product\n",
    "        # Line equation: line[0] * x + line[1] * y + line[2] = 0\n",
    "        line = np.cross(pt1, pt2)\n",
    "        lines = np.append(lines, line.reshape((3, 1)), axis=1)\n",
    "        # Get center coordinate of the line segment\n",
    "        center = (pt1 + pt2) / 2\n",
    "        centers = np.append(centers, center.reshape((3, 1)), axis=1)\n",
    "\n",
    "        # Plot line segment\n",
    "        plt.plot([pt1[0], pt2[0]], [pt1[1], pt2[1]], color='b')\n",
    "\n",
    "        n += 1\n",
    "\n",
    "    return n, lines, centers"
   ]
  },
  {
   "cell_type": "code",
   "execution_count": 3,
   "metadata": {},
   "outputs": [],
   "source": [
    "def plot_lines_and_vp(im, lines, vp):\n",
    "    \"\"\"\n",
    "    Plots user-input lines and the calculated vanishing point.\n",
    "    Inputs:\n",
    "        im: np.ndarray of shape (height, width, 3)\n",
    "        lines: np.ndarray of shape (3, n)\n",
    "            where each column denotes the parameters of the line equation\n",
    "        vp: np.ndarray of shape (3, )\n",
    "    \"\"\"\n",
    "    x,y,_ = np.shape(im)\n",
    "    bx1 = min(1, vp[0] / vp[2]) - 10\n",
    "    bx2 = max(im.shape[1], vp[0] / vp[2]) + 10\n",
    "    by1 = min(1, vp[1] / vp[2]) - 10\n",
    "    by2 = max(im.shape[0], vp[1] / vp[2]) + 10\n",
    "\n",
    "    plt.figure()\n",
    "    plt.imshow(im)\n",
    "    for i in range(lines.shape[1]):\n",
    "        if lines[0, i] < lines[1, i]:\n",
    "            pt1 = np.cross(np.array([1, 0, -bx1]), lines[:, i])\n",
    "            pt2 = np.cross(np.array([1, 0, -bx2]), lines[:, i])\n",
    "        else:\n",
    "            pt1 = np.cross(np.array([0, 1, -by1]), lines[:, i])\n",
    "            pt2 = np.cross(np.array([0, 1, -by2]), lines[:, i])\n",
    "        pt1 = pt1 / pt1[2]\n",
    "        pt2 = pt2 / pt2[2]\n",
    "        plt.plot([pt1[0], pt2[0]], [pt1[1], pt2[1]], 'g')\n",
    "    \n",
    "    plt.plot(vp[0] / vp[2], vp[1] / vp[2], 'ro')\n",
    "    #plt.axis([min(vp[0] / vp[2]-10,0),max(vp[0] / vp[2]+10,x),min(vp[1] / vp[2]-10,0),min(vp[1] / vp[2]+10,y)])\n",
    "    plt.show()"
   ]
  },
  {
   "cell_type": "code",
   "execution_count": 4,
   "metadata": {},
   "outputs": [],
   "source": [
    "def get_top_and_bottom_coordinates(im, obj):\n",
    "    \"\"\"\n",
    "    For a specific object, prompts user to record the top coordinate and the bottom coordinate in the image.\n",
    "    Inputs:\n",
    "        im: np.ndarray of shape (height, width, 3)\n",
    "        obj: string, object name\n",
    "    Returns:\n",
    "        coord: np.ndarray of shape (3, 2)\n",
    "            where coord[:, 0] is the homogeneous coordinate of the top of the object and coord[:, 1] is the homogeneous\n",
    "            coordinate of the bottom\n",
    "    \"\"\"\n",
    "    plt.figure()\n",
    "    plt.imshow(im)\n",
    "\n",
    "    print('Click on the top coordinate of %s' % obj)\n",
    "    clicked = plt.ginput(1, timeout=0, show_clicks=True)\n",
    "    x1, y1 = clicked[0]\n",
    "    # Uncomment this line to enable a vertical line to help align the two coordinates\n",
    "    plt.plot([x1, x1], [0, im.shape[0]], 'b')\n",
    "    print('Click on the bottom coordinate of %s' % obj)\n",
    "    clicked = plt.ginput(1, timeout=0, show_clicks=True)\n",
    "    x2, y2 = clicked[0]\n",
    "\n",
    "    plt.plot([x1, x2], [y1, y2], 'b')\n",
    "\n",
    "    return np.array([[x1, x2], [y1, y2], [1, 1]])"
   ]
  },
  {
   "cell_type": "markdown",
   "metadata": {},
   "source": [
    "# Your implementation"
   ]
  },
  {
   "cell_type": "code",
   "execution_count": 5,
   "metadata": {},
   "outputs": [],
   "source": [
    "def get_vanishing_point(lines):\n",
    "    \"\"\"\n",
    "    Solves for the vanishing point using the user-input lines.\n",
    "    input : lines np.ndarray of shape (3, n)\n",
    "    return vpt np.array of shape (3,1)\n",
    "    \"\"\"\n",
    "    second_moment = lines.dot(lines.T)\n",
    "    w, v = np.linalg.eig(second_moment)\n",
    "    min_idx = np.argmin(w)\n",
    "    vp = v[:, min_idx]\n",
    "    vp = vp / vp[-1]\n",
    "    return vp\n",
    "    \n",
    "    \n",
    " "
   ]
  },
  {
   "cell_type": "code",
   "execution_count": 6,
   "metadata": {},
   "outputs": [],
   "source": [
    "def get_horizon_line(vpts):\n",
    "    \"\"\"\n",
    "    Calculates the ground horizon line.\n",
    "    \"\"\"\n",
    "    # <YOUR IMPLEMENTATION>\n",
    "    pt1 = vpts[:,0]\n",
    "    pt2 = vpts[:,1]\n",
    "    h_line = np.cross(pt1,pt2)\n",
    "    h_line /= np.sqrt(h_line[0]**2+h_line[1]**2)\n",
    "    return h_line"
   ]
  },
  {
   "cell_type": "code",
   "execution_count": 22,
   "metadata": {},
   "outputs": [],
   "source": [
    "def plot_horizon_line(im,horizono_line):\n",
    "    \"\"\"\n",
    "    Plots the horizon line.\n",
    "    \"\"\"\n",
    "    \n",
    "    \n",
    "    \n",
    "    \n",
    "    x_range = im.shape[1]\n",
    "    x = np.arange(x_range)\n",
    "    y = (- horizon_line[2] - horizon_line[0] * x) / horizon_line[1]\n",
    "    \n",
    "    plt.figure()\n",
    "    plt.imshow(im)\n",
    "    plt.plot(x, y, 'r', linestyle='-', linewidth=3)    \n",
    "    plt.show()"
   ]
  },
  {
   "cell_type": "code",
   "execution_count": 8,
   "metadata": {},
   "outputs": [],
   "source": [
    "def get_camera_parameters(vpts):\n",
    "    \"\"\"\n",
    "    Computes the camera parameters. Hint: The SymPy package is suitable for this.\n",
    "    \"\"\"\n",
    "    # <YOUR IMPLEMENTATION>\n",
    "    vp1 = vpts[:, 0][:, np.newaxis]  # column vector\n",
    "    vp2 = vpts[:, 1][:, np.newaxis]\n",
    "    vp3 = vpts[:, 2][:, np.newaxis]\n",
    "    f,u,v = sympy.symbols('f,u,v')\n",
    "    K = sympy.Matrix([[f,0,u],[0,f,v],[0,0,1]])\n",
    "    K_inv_T = (K.T)**-1\n",
    "    K_inv = K**-1\n",
    "    \n",
    "    Eq1 = vp1.T*K_inv_T*K_inv*vp2\n",
    "    Eq2 = vp2.T*K_inv_T*K_inv*vp3\n",
    "    Eq3 = vp1.T*K_inv_T*K_inv*vp3\n",
    "    \n",
    "    f,u,v = sympy.solve([Eq1[0],Eq2[0],Eq3[0]],(f,u,v))[0]\n",
    "    \n",
    "    return float(abs(f)),float(u),float(v)\n",
    "    "
   ]
  },
  {
   "cell_type": "code",
   "execution_count": 32,
   "metadata": {},
   "outputs": [],
   "source": [
    "def get_rotation_matrix(vpts,f,u,v):\n",
    "    \"\"\"\n",
    "    Computes the rotation matrix using the camera parameters.\n",
    "    \"\"\"\n",
    "    # <YOUR IMPLEMENTATION>\n",
    "    vpZ = vpts[:, 0][:, np.newaxis]  # column vector\n",
    "    vpX = vpts[:, 1][:, np.newaxis]\n",
    "    vpY = vpts[:, 2][:, np.newaxis]\n",
    "    K = np.array([[f,0,u],[0,f,v],[0,0,1]])\n",
    "    K_inv = np.linalg.inv(K)\n",
    "    r1 = np.dot(K_inv,vpX)\n",
    "    r2 = np.dot(K_inv,vpY)\n",
    "    r3 = np.dot(K_inv,vpZ)\n",
    "    r1 = r1 / np.linalg.norm(r1)\n",
    "    r2 = r2 / np.linalg.norm(r2)\n",
    "    r3 = r3 / np.linalg.norm(r3)\n",
    "    R = np.concatenate((r1, r2, r3), axis=1)\n",
    "    \n",
    "    return R"
   ]
  },
  {
   "cell_type": "code",
   "execution_count": 10,
   "metadata": {},
   "outputs": [],
   "source": [
    "def estimate_height(im, person_coord, obj_coord, horizon_line):\n",
    "    \"\"\"\n",
    "    Estimates height for a specific object using the recorded coordinates. You might need to plot additional images here for\n",
    "    your report.\n",
    "    \"\"\"\n",
    "    # <YOUR IMPLEMENTATION>\n",
    "    \n",
    "    #H = 1.6764  # 5ft 6in to meters\n",
    "    H = 1.8288  # 6 ft to meters\n",
    "    \n",
    "    vpz = vpts[:, 2]  # Vertical vp.\n",
    "    # Person as reference.\n",
    "    t0 = person_coord[:, 0]\n",
    "    b0 = person_coord[:, 1]\n",
    "\n",
    "    # Obj coords.\n",
    "    r = obj_coord[:, 0]\n",
    "    b = obj_coord[:, 1]\n",
    "\n",
    "    line_b0_b = np.cross(b0, b)\n",
    "    v = np.cross(line_b0_b, horizon_line)\n",
    "    v = v / v[-1]\n",
    "    \n",
    "    line_v_t0 = np.cross(v, t0)\n",
    "    line_r_b = np.cross(r, b)\n",
    "    t = np.cross(line_v_t0, line_r_b)\n",
    "    t = t / t[-1]\n",
    "    \n",
    "    height = H*(np.linalg.norm(r-b) * np.linalg.norm(vpz-t) /\n",
    "              np.linalg.norm(t-b) / np.linalg.norm(vpz-r))\n",
    "    \n",
    "    # Plot the lines used for measuring height.\n",
    "    plt.figure()\n",
    "    plt.imshow(im)\n",
    "    plt.plot([t0[0], b0[0]], [t0[1], b0[1]], 'b', linestyle='-', linewidth=1.5)\n",
    "    plt.plot([b[0], b0[0]], [b[1], b0[1]], 'g', linestyle='-', linewidth=1)\n",
    "    plt.plot([t0[0], t[0]], [t0[1], t[1]], 'g', linestyle='-', linewidth=1)\n",
    "    plt.plot(t[0], t[1], 'g', marker='+')\n",
    "    plt.plot(b[0], b[1], 'g', marker='+')\n",
    "    plt.plot([r[0], b[0]], [r[1], b[1]], 'r', linestyle='-', linewidth=1.5)\n",
    "    \n",
    "    x_range = im.shape[1]\n",
    "    x = np.arange(x_range)\n",
    "    y = (- horizon_line[2] - horizon_line[0] * x) / horizon_line[1]\n",
    "    plt.plot(x, y, 'r', linestyle='-', linewidth=1)   \n",
    "    \n",
    "    plt.plot([b[0], v[0]], [b[1], v[1]], 'g', linestyle='-', linewidth=1)\n",
    "    plt.plot([t[0], v[0]], [t[1], v[1]], 'g', linestyle='-', linewidth=1)\n",
    "    plt.plot(v[0], v[1], 'g', marker='o', markersize=2.5)\n",
    "    \n",
    "    plt.show()\n",
    "    \n",
    "    return height"
   ]
  },
  {
   "cell_type": "markdown",
   "metadata": {},
   "source": [
    "# Main function"
   ]
  },
  {
   "cell_type": "code",
   "execution_count": 11,
   "metadata": {},
   "outputs": [
    {
     "name": "stdout",
     "output_type": "stream",
     "text": [
      "Getting vanishing point 0\n",
      "Set at least 3 lines to compute vanishing point\n",
      "Click the two endpoints, use the right key to stop, and use the middle key to undo\n",
      "Need at least 3 lines, you have 0 now\n",
      "Click the two endpoints, use the right key to stop, and use the middle key to undo\n",
      "Click the two endpoints, use the right key to stop, and use the middle key to undo\n",
      "Click the two endpoints, use the right key to stop, and use the middle key to undo\n",
      "Click the two endpoints, use the right key to stop, and use the middle key to undo\n",
      "Getting vanishing point 1\n",
      "Set at least 3 lines to compute vanishing point\n",
      "Click the two endpoints, use the right key to stop, and use the middle key to undo\n",
      "Click the two endpoints, use the right key to stop, and use the middle key to undo\n",
      "Click the two endpoints, use the right key to stop, and use the middle key to undo\n",
      "Click the two endpoints, use the right key to stop, and use the middle key to undo\n",
      "Getting vanishing point 2\n",
      "Set at least 3 lines to compute vanishing point\n",
      "Click the two endpoints, use the right key to stop, and use the middle key to undo\n",
      "Click the two endpoints, use the right key to stop, and use the middle key to undo\n",
      "Click the two endpoints, use the right key to stop, and use the middle key to undo\n",
      "Click the two endpoints, use the right key to stop, and use the middle key to undo\n"
     ]
    }
   ],
   "source": [
    "im = np.asarray(Image.open('CSL.jpg'))\n",
    "\n",
    "# Part 1\n",
    "# Get vanishing points for each of the directions\n",
    "num_vpts = 3\n",
    "vpts = np.zeros((3, num_vpts))\n",
    "for i in range(num_vpts):\n",
    "    print('Getting vanishing point %d' % i)\n",
    "    # Get at least three lines from user input\n",
    "    n, lines, centers = get_input_lines(im)\n",
    "    # <YOUR IMPLEMENTATION> Solve for vanishing point\n",
    "    vpts[:, i] = get_vanishing_point(lines)\n",
    "    # Plot the lines and the vanishing point\n",
    "    plot_lines_and_vp(im, lines, vpts[:, i])\n",
    "\n"
   ]
  },
  {
   "cell_type": "code",
   "execution_count": 23,
   "metadata": {},
   "outputs": [
    {
     "name": "stdout",
     "output_type": "stream",
     "text": [
      "horizon_line =  [ 4.73199951e-03  9.99988804e-01 -2.35023761e+02]\n"
     ]
    }
   ],
   "source": [
    "# <YOUR IMPLEMENTATION> Get the ground horizon line\n",
    "horizon_line = get_horizon_line(vpts)\n",
    "print('horizon_line = ',horizon_line)\n",
    "# <YOUR IMPLEMENTATION> Plot the ground horizon line\n",
    "plot_horizon_line(im,horizon_line)"
   ]
  },
  {
   "cell_type": "code",
   "execution_count": 24,
   "metadata": {},
   "outputs": [
    {
     "name": "stdout",
     "output_type": "stream",
     "text": [
      "[[-1.68875393e+02  1.35891383e+03  6.17337057e+02]\n",
      " [ 2.35825520e+02  2.28595941e+02  2.74459278e+03]\n",
      " [ 1.00000000e+00  1.00000000e+00  1.00000000e+00]]\n",
      "(727.6770625657995, 606.546957490007, 464.3771616368409)\n"
     ]
    }
   ],
   "source": [
    "# Part 2\n",
    "# <YOUR IMPLEMENTATION> Solve for the camera parameters (f, u, v)\n",
    "print(vpts)\n",
    "f, u, v = get_camera_parameters(vpts)\n",
    "print((f,u,v))"
   ]
  },
  {
   "cell_type": "code",
   "execution_count": 33,
   "metadata": {},
   "outputs": [
    {
     "name": "stdout",
     "output_type": "stream",
     "text": [
      "[[ 0.70123136  0.00450802 -0.71291953]\n",
      " [-0.21975607  0.95265574 -0.21012927]\n",
      " [ 0.67821962  0.30401762  0.66902275]]\n"
     ]
    }
   ],
   "source": [
    "# Part 3\n",
    "# <YOUR IMPLEMENTATION> Solve for the rotation matrix\n",
    "R = get_rotation_matrix(vpts,f,u,v)\n",
    "print(R)"
   ]
  },
  {
   "cell_type": "code",
   "execution_count": 29,
   "metadata": {},
   "outputs": [
    {
     "name": "stdout",
     "output_type": "stream",
     "text": [
      "Click on the top coordinate of person\n",
      "Click on the bottom coordinate of person\n",
      "Click on the top coordinate of CSL building\n",
      "Click on the bottom coordinate of CSL building\n",
      "Click on the top coordinate of the spike statue\n",
      "Click on the bottom coordinate of the spike statue\n",
      "Click on the top coordinate of the lamp posts\n",
      "Click on the bottom coordinate of the lamp posts\n",
      "Estimating height of CSL building\n",
      "24.161779491076192\n",
      "Estimating height of the spike statue\n",
      "10.057032520050532\n",
      "Estimating height of the lamp posts\n",
      "4.1135825916712125\n"
     ]
    }
   ],
   "source": [
    "# Part 4\n",
    "# Record image coordinates for each object and store in map\n",
    "objects = ('person', 'CSL building', 'the spike statue', 'the lamp posts')\n",
    "coords = dict()\n",
    "for obj in objects:\n",
    "    coords[obj] = get_top_and_bottom_coordinates(im, obj)\n",
    "\n",
    "# <YOUR IMPLEMENTATION> Estimate heights\n",
    "for obj in objects[1:]:\n",
    "    print('Estimating height of %s' % obj)\n",
    "    height = estimate_height(im, coords['person'], coords[obj], horizon_line)\n",
    "    print(height)"
   ]
  },
  {
   "cell_type": "markdown",
   "metadata": {},
   "source": [
    "5.6\n",
    "Estimating height of CSL building\n",
    "27.238794423198367\n",
    "Estimating height of the spike statue\n",
    "10.93621766129856\n",
    "Estimating height of the lamp posts\n",
    "4.2807752472043346\n",
    "\n",
    "6\n",
    "Estimating height of CSL building\n",
    "24.161779491076192\n",
    "Estimating height of the spike statue\n",
    "10.057032520050532\n",
    "Estimating height of the lamp posts\n",
    "4.1135825916712125"
   ]
  },
  {
   "cell_type": "code",
   "execution_count": null,
   "metadata": {},
   "outputs": [],
   "source": []
  }
 ],
 "metadata": {
  "kernelspec": {
   "display_name": "Python 3",
   "language": "python",
   "name": "python3"
  },
  "language_info": {
   "codemirror_mode": {
    "name": "ipython",
    "version": 3
   },
   "file_extension": ".py",
   "mimetype": "text/x-python",
   "name": "python",
   "nbconvert_exporter": "python",
   "pygments_lexer": "ipython3",
   "version": "3.5.5"
  }
 },
 "nbformat": 4,
 "nbformat_minor": 2
}
